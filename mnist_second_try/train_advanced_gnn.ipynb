{
 "cells": [
  {
   "cell_type": "code",
   "execution_count": 1,
   "metadata": {},
   "outputs": [],
   "source": [
    "import torch\n",
    "import os\n",
    "import torch.nn.functional as F\n",
    "from torch_geometric.data import Dataset\n",
    "from torch_geometric.loader import DataLoader\n",
    "from torch_geometric.nn import GATConv, global_mean_pool, BatchNorm\n",
    "from sklearn.model_selection import train_test_split\n",
    "from torch.optim.lr_scheduler import StepLR\n",
    "from tqdm import tqdm\n",
    "import matplotlib.pyplot as plt\n",
    "%matplotlib inline\n",
    "\n",
    "\n"
   ]
  },
  {
   "cell_type": "code",
   "execution_count": 2,
   "metadata": {},
   "outputs": [
    {
     "name": "stdout",
     "output_type": "stream",
     "text": [
      "GPU is available! Found 1 GPU(s).\n",
      "Device Name: NVIDIA GeForce RTX 3050 6GB Laptop GPU\n"
     ]
    }
   ],
   "source": [
    "if torch.cuda.is_available():\n",
    "    # Get the number of available GPUs\n",
    "    gpu_count = torch.cuda.device_count()\n",
    "    print(f\"GPU is available! Found {gpu_count} GPU(s).\")\n",
    "    \n",
    "    # Get the name of the primary GPU\n",
    "    gpu_name = torch.cuda.get_device_name(0)\n",
    "    print(f\"Device Name: {gpu_name}\")\n",
    "else:\n",
    "    print(\"No GPU available, using CPU instead.\")"
   ]
  },
  {
   "cell_type": "code",
   "execution_count": 3,
   "metadata": {},
   "outputs": [],
   "source": [
    "\n",
    "# --- 1. Advanced GNN Architecture ---\n",
    "class AdvancedGNN(torch.nn.Module):\n",
    "    def __init__(self, num_node_features, num_classes):\n",
    "        super(AdvancedGNN, self).__init__()\n",
    "        \n",
    "        # We use GATConv which allows nodes to weigh their neighbors' importance.\n",
    "        # 'heads' parameter enables multi-head attention for more stable learning.\n",
    "        self.conv1 = GATConv(num_node_features, 64, heads=8, dropout=0.6)\n",
    "        self.bn1 = BatchNorm(64 * 8) # Batch Normalization\n",
    "        \n",
    "        # The input to the next layer is hidden_channels * heads\n",
    "        self.conv2 = GATConv(64 * 8, 128, heads=1, dropout=0.6)\n",
    "        self.bn2 = BatchNorm(128)\n",
    "        \n",
    "        self.conv3 = GATConv(128, 128, heads=1, dropout=0.6)\n",
    "        self.bn3 = BatchNorm(128)\n",
    "\n",
    "        # Classifier\n",
    "        self.fc1 = torch.nn.Linear(128, 64)\n",
    "        self.fc2 = torch.nn.Linear(64, num_classes)\n",
    "\n",
    "    def forward(self, data):\n",
    "        x, edge_index, batch = data.x, data.edge_index, data.batch\n",
    "\n",
    "        # GNN layers with BatchNorm and Dropout\n",
    "        x = F.dropout(x, p=0.6, training=self.training)\n",
    "        x = self.conv1(x, edge_index)\n",
    "        x = self.bn1(x)\n",
    "        x = F.elu(x) # ELU is often used with GAT\n",
    "        \n",
    "        x = F.dropout(x, p=0.6, training=self.training)\n",
    "        x = self.conv2(x, edge_index)\n",
    "        x = self.bn2(x)\n",
    "        x = F.elu(x)\n",
    "\n",
    "        x = F.dropout(x, p=0.6, training=self.training)\n",
    "        x = self.conv3(x, edge_index)\n",
    "        x = self.bn3(x)\n",
    "        x = F.elu(x)\n",
    "        \n",
    "        # Pooling Layer\n",
    "        x = global_mean_pool(x, batch)\n",
    "\n",
    "        # Classifier\n",
    "        x = self.fc1(x)\n",
    "        x = F.relu(x)\n",
    "        x = self.fc2(x)\n",
    "        \n",
    "        return F.log_softmax(x, dim=-1)\n"
   ]
  },
  {
   "cell_type": "code",
   "execution_count": 4,
   "metadata": {},
   "outputs": [],
   "source": [
    "\n",
    "# --- 2. Dataset Class (reused) ---\n",
    "class MNISTGraphDataset(Dataset):\n",
    "    def __init__(self, root, transform=None, pre_transform=None):\n",
    "        super(MNISTGraphDataset, self).__init__(root, transform, pre_transform)\n",
    "\n",
    "    @property\n",
    "    def raw_file_names(self): return []\n",
    "    @property\n",
    "    def processed_file_names(self): return [f'data_{i}.pt' for i in range(60000)]\n",
    "    def len(self): return len(self.processed_file_names)\n",
    "    def get(self, idx):\n",
    "        data = torch.load(os.path.join(self.processed_dir, f'data_{idx}.pt'), weights_only=False)\n",
    "        return data\n"
   ]
  },
  {
   "cell_type": "code",
   "execution_count": 5,
   "metadata": {},
   "outputs": [],
   "source": [
    "\n",
    "# --- 3. Training and Testing Functions (reused) ---\n",
    "def train(model, loader, optimizer, device):\n",
    "    model.train()\n",
    "    total_loss = 0\n",
    "    for data in tqdm(loader, desc=\"Training\"):\n",
    "        data = data.to(device)\n",
    "        optimizer.zero_grad()\n",
    "        out = model(data)\n",
    "        loss = F.nll_loss(out, data.y)\n",
    "        loss.backward()\n",
    "        optimizer.step()\n",
    "        total_loss += loss.item() * data.num_graphs\n",
    "    return total_loss / len(loader.dataset)\n",
    "\n",
    "def test(model, loader, device):\n",
    "    model.eval()\n",
    "    correct = 0\n",
    "    with torch.no_grad():\n",
    "        for data in tqdm(loader, desc=\"Testing\"):\n",
    "            data = data.to(device)\n",
    "            out = model(data)\n",
    "            pred = out.argmax(dim=1)\n",
    "            correct += int((pred == data.y).sum())\n",
    "    return correct / len(loader.dataset)\n",
    "\n"
   ]
  },
  {
   "cell_type": "code",
   "execution_count": 6,
   "metadata": {},
   "outputs": [
    {
     "name": "stdout",
     "output_type": "stream",
     "text": [
      "Using device: cuda\n",
      "Loading completed.\n",
      "DataLoaders created.\n",
      "Model initialized.\n"
     ]
    },
    {
     "name": "stderr",
     "output_type": "stream",
     "text": [
      "Training: 100%|██████████| 375/375 [00:38<00:00,  9.79it/s]\n",
      "Testing: 100%|██████████| 94/94 [00:16<00:00,  5.78it/s]\n"
     ]
    },
    {
     "name": "stdout",
     "output_type": "stream",
     "text": [
      "Epoch: 01, Loss: 2.1868, Test Accuracy: 0.1020, LR: 0.001000\n"
     ]
    },
    {
     "name": "stderr",
     "output_type": "stream",
     "text": [
      "Training: 100%|██████████| 375/375 [01:04<00:00,  5.83it/s]\n",
      "Testing: 100%|██████████| 94/94 [00:13<00:00,  7.21it/s]\n"
     ]
    },
    {
     "name": "stdout",
     "output_type": "stream",
     "text": [
      "Epoch: 02, Loss: 2.1558, Test Accuracy: 0.1095, LR: 0.001000\n"
     ]
    },
    {
     "name": "stderr",
     "output_type": "stream",
     "text": [
      "Training: 100%|██████████| 375/375 [01:01<00:00,  6.11it/s]\n",
      "Testing: 100%|██████████| 94/94 [00:20<00:00,  4.48it/s]\n"
     ]
    },
    {
     "name": "stdout",
     "output_type": "stream",
     "text": [
      "Epoch: 03, Loss: 2.1457, Test Accuracy: 0.1511, LR: 0.001000\n"
     ]
    },
    {
     "name": "stderr",
     "output_type": "stream",
     "text": [
      "Training: 100%|██████████| 375/375 [01:44<00:00,  3.60it/s]\n",
      "Testing: 100%|██████████| 94/94 [00:21<00:00,  4.30it/s]\n"
     ]
    },
    {
     "name": "stdout",
     "output_type": "stream",
     "text": [
      "Epoch: 04, Loss: 2.1428, Test Accuracy: 0.1015, LR: 0.001000\n"
     ]
    },
    {
     "name": "stderr",
     "output_type": "stream",
     "text": [
      "Training: 100%|██████████| 375/375 [01:49<00:00,  3.43it/s]\n",
      "Testing: 100%|██████████| 94/94 [00:13<00:00,  6.75it/s]\n"
     ]
    },
    {
     "name": "stdout",
     "output_type": "stream",
     "text": [
      "Epoch: 05, Loss: 2.1375, Test Accuracy: 0.1388, LR: 0.001000\n"
     ]
    },
    {
     "name": "stderr",
     "output_type": "stream",
     "text": [
      "Training: 100%|██████████| 375/375 [02:43<00:00,  2.29it/s]\n",
      "Testing: 100%|██████████| 94/94 [00:26<00:00,  3.55it/s]\n"
     ]
    },
    {
     "name": "stdout",
     "output_type": "stream",
     "text": [
      "Epoch: 06, Loss: 2.1339, Test Accuracy: 0.0998, LR: 0.001000\n"
     ]
    },
    {
     "name": "stderr",
     "output_type": "stream",
     "text": [
      "Training: 100%|██████████| 375/375 [01:37<00:00,  3.85it/s]\n",
      "Testing: 100%|██████████| 94/94 [00:27<00:00,  3.40it/s]\n"
     ]
    },
    {
     "name": "stdout",
     "output_type": "stream",
     "text": [
      "Epoch: 07, Loss: 2.1337, Test Accuracy: 0.0981, LR: 0.001000\n"
     ]
    },
    {
     "name": "stderr",
     "output_type": "stream",
     "text": [
      "Training: 100%|██████████| 375/375 [01:39<00:00,  3.79it/s]\n",
      "Testing: 100%|██████████| 94/94 [00:29<00:00,  3.20it/s]\n"
     ]
    },
    {
     "name": "stdout",
     "output_type": "stream",
     "text": [
      "Epoch: 08, Loss: 2.1268, Test Accuracy: 0.0984, LR: 0.001000\n"
     ]
    },
    {
     "name": "stderr",
     "output_type": "stream",
     "text": [
      "Training: 100%|██████████| 375/375 [02:06<00:00,  2.95it/s]\n",
      "Testing: 100%|██████████| 94/94 [00:20<00:00,  4.53it/s]\n"
     ]
    },
    {
     "name": "stdout",
     "output_type": "stream",
     "text": [
      "Epoch: 09, Loss: 2.1210, Test Accuracy: 0.0986, LR: 0.001000\n"
     ]
    },
    {
     "name": "stderr",
     "output_type": "stream",
     "text": [
      "Training: 100%|██████████| 375/375 [01:45<00:00,  3.54it/s]\n",
      "Testing: 100%|██████████| 94/94 [00:21<00:00,  4.31it/s]\n"
     ]
    },
    {
     "name": "stdout",
     "output_type": "stream",
     "text": [
      "Epoch: 10, Loss: 2.1184, Test Accuracy: 0.1001, LR: 0.001000\n"
     ]
    },
    {
     "name": "stderr",
     "output_type": "stream",
     "text": [
      "Training: 100%|██████████| 375/375 [01:13<00:00,  5.09it/s]\n",
      "Testing: 100%|██████████| 94/94 [00:21<00:00,  4.38it/s]\n"
     ]
    },
    {
     "name": "stdout",
     "output_type": "stream",
     "text": [
      "Epoch: 11, Loss: 2.1073, Test Accuracy: 0.0982, LR: 0.001000\n"
     ]
    },
    {
     "name": "stderr",
     "output_type": "stream",
     "text": [
      "Training: 100%|██████████| 375/375 [01:38<00:00,  3.81it/s]\n",
      "Testing: 100%|██████████| 94/94 [00:22<00:00,  4.21it/s]\n"
     ]
    },
    {
     "name": "stdout",
     "output_type": "stream",
     "text": [
      "Epoch: 12, Loss: 2.1105, Test Accuracy: 0.0982, LR: 0.001000\n"
     ]
    },
    {
     "name": "stderr",
     "output_type": "stream",
     "text": [
      "Training: 100%|██████████| 375/375 [02:10<00:00,  2.88it/s]\n",
      "Testing: 100%|██████████| 94/94 [00:30<00:00,  3.12it/s]\n"
     ]
    },
    {
     "name": "stdout",
     "output_type": "stream",
     "text": [
      "Epoch: 13, Loss: 2.1032, Test Accuracy: 0.0981, LR: 0.001000\n"
     ]
    },
    {
     "name": "stderr",
     "output_type": "stream",
     "text": [
      "Training: 100%|██████████| 375/375 [02:04<00:00,  3.02it/s]\n",
      "Testing: 100%|██████████| 94/94 [00:30<00:00,  3.09it/s]\n"
     ]
    },
    {
     "name": "stdout",
     "output_type": "stream",
     "text": [
      "Epoch: 14, Loss: 2.0994, Test Accuracy: 0.0986, LR: 0.001000\n"
     ]
    },
    {
     "name": "stderr",
     "output_type": "stream",
     "text": [
      "Training: 100%|██████████| 375/375 [02:26<00:00,  2.56it/s]\n",
      "Testing: 100%|██████████| 94/94 [00:26<00:00,  3.50it/s]\n"
     ]
    },
    {
     "name": "stdout",
     "output_type": "stream",
     "text": [
      "Epoch: 15, Loss: 2.0949, Test Accuracy: 0.1000, LR: 0.001000\n"
     ]
    },
    {
     "name": "stderr",
     "output_type": "stream",
     "text": [
      "Training: 100%|██████████| 375/375 [01:56<00:00,  3.21it/s]\n",
      "Testing: 100%|██████████| 94/94 [00:22<00:00,  4.21it/s]\n"
     ]
    },
    {
     "name": "stdout",
     "output_type": "stream",
     "text": [
      "Epoch: 16, Loss: 2.0922, Test Accuracy: 0.0994, LR: 0.001000\n"
     ]
    },
    {
     "name": "stderr",
     "output_type": "stream",
     "text": [
      "Training: 100%|██████████| 375/375 [01:45<00:00,  3.55it/s]\n",
      "Testing: 100%|██████████| 94/94 [00:19<00:00,  4.74it/s]\n"
     ]
    },
    {
     "name": "stdout",
     "output_type": "stream",
     "text": [
      "Epoch: 17, Loss: 2.0921, Test Accuracy: 0.0983, LR: 0.001000\n"
     ]
    },
    {
     "name": "stderr",
     "output_type": "stream",
     "text": [
      "Training: 100%|██████████| 375/375 [01:45<00:00,  3.54it/s]\n",
      "Testing: 100%|██████████| 94/94 [00:11<00:00,  8.29it/s]\n"
     ]
    },
    {
     "name": "stdout",
     "output_type": "stream",
     "text": [
      "Epoch: 18, Loss: 2.0882, Test Accuracy: 0.0981, LR: 0.001000\n"
     ]
    },
    {
     "name": "stderr",
     "output_type": "stream",
     "text": [
      "Training: 100%|██████████| 375/375 [00:55<00:00,  6.73it/s]\n",
      "Testing: 100%|██████████| 94/94 [00:31<00:00,  3.01it/s]\n"
     ]
    },
    {
     "name": "stdout",
     "output_type": "stream",
     "text": [
      "Epoch: 19, Loss: 2.0842, Test Accuracy: 0.1028, LR: 0.001000\n"
     ]
    },
    {
     "name": "stderr",
     "output_type": "stream",
     "text": [
      "Training: 100%|██████████| 375/375 [02:07<00:00,  2.94it/s]\n",
      "Testing: 100%|██████████| 94/94 [00:27<00:00,  3.36it/s]\n"
     ]
    },
    {
     "name": "stdout",
     "output_type": "stream",
     "text": [
      "Epoch: 20, Loss: 2.0807, Test Accuracy: 0.0992, LR: 0.000100\n"
     ]
    },
    {
     "name": "stderr",
     "output_type": "stream",
     "text": [
      "Training: 100%|██████████| 375/375 [01:26<00:00,  4.35it/s]\n",
      "Testing: 100%|██████████| 94/94 [00:16<00:00,  5.61it/s]\n"
     ]
    },
    {
     "name": "stdout",
     "output_type": "stream",
     "text": [
      "Epoch: 21, Loss: 2.0730, Test Accuracy: 0.1027, LR: 0.000100\n"
     ]
    },
    {
     "name": "stderr",
     "output_type": "stream",
     "text": [
      "Training: 100%|██████████| 375/375 [01:31<00:00,  4.09it/s]\n",
      "Testing: 100%|██████████| 94/94 [00:14<00:00,  6.59it/s]\n"
     ]
    },
    {
     "name": "stdout",
     "output_type": "stream",
     "text": [
      "Epoch: 22, Loss: 2.0719, Test Accuracy: 0.0993, LR: 0.000100\n"
     ]
    },
    {
     "name": "stderr",
     "output_type": "stream",
     "text": [
      "Training: 100%|██████████| 375/375 [00:56<00:00,  6.67it/s]\n",
      "Testing: 100%|██████████| 94/94 [00:06<00:00, 13.85it/s]\n"
     ]
    },
    {
     "name": "stdout",
     "output_type": "stream",
     "text": [
      "Epoch: 23, Loss: 2.0717, Test Accuracy: 0.0988, LR: 0.000100\n"
     ]
    },
    {
     "name": "stderr",
     "output_type": "stream",
     "text": [
      "Training: 100%|██████████| 375/375 [00:48<00:00,  7.70it/s]\n",
      "Testing: 100%|██████████| 94/94 [00:17<00:00,  5.41it/s]\n"
     ]
    },
    {
     "name": "stdout",
     "output_type": "stream",
     "text": [
      "Epoch: 24, Loss: 2.0704, Test Accuracy: 0.1003, LR: 0.000100\n"
     ]
    },
    {
     "name": "stderr",
     "output_type": "stream",
     "text": [
      "Training: 100%|██████████| 375/375 [02:00<00:00,  3.11it/s]\n",
      "Testing: 100%|██████████| 94/94 [00:20<00:00,  4.67it/s]\n"
     ]
    },
    {
     "name": "stdout",
     "output_type": "stream",
     "text": [
      "Epoch: 25, Loss: 2.0688, Test Accuracy: 0.1026, LR: 0.000100\n"
     ]
    },
    {
     "name": "stderr",
     "output_type": "stream",
     "text": [
      "Training: 100%|██████████| 375/375 [01:33<00:00,  4.01it/s]\n",
      "Testing: 100%|██████████| 94/94 [00:14<00:00,  6.69it/s]\n"
     ]
    },
    {
     "name": "stdout",
     "output_type": "stream",
     "text": [
      "Epoch: 26, Loss: 2.0714, Test Accuracy: 0.1010, LR: 0.000100\n"
     ]
    },
    {
     "name": "stderr",
     "output_type": "stream",
     "text": [
      "Training: 100%|██████████| 375/375 [00:51<00:00,  7.30it/s]\n",
      "Testing: 100%|██████████| 94/94 [00:11<00:00,  8.07it/s]\n"
     ]
    },
    {
     "name": "stdout",
     "output_type": "stream",
     "text": [
      "Epoch: 27, Loss: 2.0692, Test Accuracy: 0.1001, LR: 0.000100\n"
     ]
    },
    {
     "name": "stderr",
     "output_type": "stream",
     "text": [
      "Training: 100%|██████████| 375/375 [00:52<00:00,  7.16it/s]\n",
      "Testing: 100%|██████████| 94/94 [00:11<00:00,  8.43it/s]\n"
     ]
    },
    {
     "name": "stdout",
     "output_type": "stream",
     "text": [
      "Epoch: 28, Loss: 2.0702, Test Accuracy: 0.1003, LR: 0.000100\n"
     ]
    },
    {
     "name": "stderr",
     "output_type": "stream",
     "text": [
      "Training: 100%|██████████| 375/375 [01:01<00:00,  6.10it/s]\n",
      "Testing: 100%|██████████| 94/94 [00:17<00:00,  5.41it/s]\n"
     ]
    },
    {
     "name": "stdout",
     "output_type": "stream",
     "text": [
      "Epoch: 29, Loss: 2.0671, Test Accuracy: 0.1014, LR: 0.000100\n"
     ]
    },
    {
     "name": "stderr",
     "output_type": "stream",
     "text": [
      "Training: 100%|██████████| 375/375 [01:06<00:00,  5.66it/s]\n",
      "Testing: 100%|██████████| 94/94 [00:11<00:00,  8.47it/s]\n"
     ]
    },
    {
     "name": "stdout",
     "output_type": "stream",
     "text": [
      "Epoch: 30, Loss: 2.0673, Test Accuracy: 0.1021, LR: 0.000100\n"
     ]
    },
    {
     "name": "stderr",
     "output_type": "stream",
     "text": [
      "Training: 100%|██████████| 375/375 [00:58<00:00,  6.39it/s]\n",
      "Testing: 100%|██████████| 94/94 [00:10<00:00,  8.99it/s]\n"
     ]
    },
    {
     "name": "stdout",
     "output_type": "stream",
     "text": [
      "Epoch: 31, Loss: 2.0640, Test Accuracy: 0.0994, LR: 0.000100\n"
     ]
    },
    {
     "name": "stderr",
     "output_type": "stream",
     "text": [
      "Training: 100%|██████████| 375/375 [01:20<00:00,  4.66it/s]\n",
      "Testing: 100%|██████████| 94/94 [00:14<00:00,  6.35it/s]\n"
     ]
    },
    {
     "name": "stdout",
     "output_type": "stream",
     "text": [
      "Epoch: 32, Loss: 2.0661, Test Accuracy: 0.1000, LR: 0.000100\n"
     ]
    },
    {
     "name": "stderr",
     "output_type": "stream",
     "text": [
      "Training: 100%|██████████| 375/375 [02:39<00:00,  2.36it/s]\n",
      "Testing: 100%|██████████| 94/94 [00:27<00:00,  3.37it/s]\n"
     ]
    },
    {
     "name": "stdout",
     "output_type": "stream",
     "text": [
      "Epoch: 33, Loss: 2.0670, Test Accuracy: 0.0998, LR: 0.000100\n"
     ]
    },
    {
     "name": "stderr",
     "output_type": "stream",
     "text": [
      "Training: 100%|██████████| 375/375 [01:57<00:00,  3.18it/s]\n",
      "Testing: 100%|██████████| 94/94 [00:26<00:00,  3.53it/s]\n"
     ]
    },
    {
     "name": "stdout",
     "output_type": "stream",
     "text": [
      "Epoch: 34, Loss: 2.0608, Test Accuracy: 0.0998, LR: 0.000100\n"
     ]
    },
    {
     "name": "stderr",
     "output_type": "stream",
     "text": [
      "Training: 100%|██████████| 375/375 [01:30<00:00,  4.12it/s]\n",
      "Testing: 100%|██████████| 94/94 [00:27<00:00,  3.47it/s]\n"
     ]
    },
    {
     "name": "stdout",
     "output_type": "stream",
     "text": [
      "Epoch: 35, Loss: 2.0621, Test Accuracy: 0.1009, LR: 0.000100\n"
     ]
    },
    {
     "name": "stderr",
     "output_type": "stream",
     "text": [
      "Training: 100%|██████████| 375/375 [01:38<00:00,  3.83it/s]\n",
      "Testing: 100%|██████████| 94/94 [00:13<00:00,  7.00it/s]\n"
     ]
    },
    {
     "name": "stdout",
     "output_type": "stream",
     "text": [
      "Epoch: 36, Loss: 2.0649, Test Accuracy: 0.1012, LR: 0.000100\n"
     ]
    },
    {
     "name": "stderr",
     "output_type": "stream",
     "text": [
      "Training: 100%|██████████| 375/375 [01:36<00:00,  3.91it/s]\n",
      "Testing: 100%|██████████| 94/94 [00:12<00:00,  7.26it/s]\n"
     ]
    },
    {
     "name": "stdout",
     "output_type": "stream",
     "text": [
      "Epoch: 37, Loss: 2.0619, Test Accuracy: 0.1006, LR: 0.000100\n"
     ]
    },
    {
     "name": "stderr",
     "output_type": "stream",
     "text": [
      "Training: 100%|██████████| 375/375 [01:03<00:00,  5.94it/s]\n",
      "Testing: 100%|██████████| 94/94 [00:13<00:00,  7.13it/s]\n"
     ]
    },
    {
     "name": "stdout",
     "output_type": "stream",
     "text": [
      "Epoch: 38, Loss: 2.0583, Test Accuracy: 0.1013, LR: 0.000100\n"
     ]
    },
    {
     "name": "stderr",
     "output_type": "stream",
     "text": [
      "Training: 100%|██████████| 375/375 [01:53<00:00,  3.32it/s]\n",
      "Testing: 100%|██████████| 94/94 [00:32<00:00,  2.89it/s]\n"
     ]
    },
    {
     "name": "stdout",
     "output_type": "stream",
     "text": [
      "Epoch: 39, Loss: 2.0630, Test Accuracy: 0.1060, LR: 0.000100\n"
     ]
    },
    {
     "name": "stderr",
     "output_type": "stream",
     "text": [
      "Training: 100%|██████████| 375/375 [02:05<00:00,  3.00it/s]\n",
      "Testing: 100%|██████████| 94/94 [00:30<00:00,  3.03it/s]\n"
     ]
    },
    {
     "name": "stdout",
     "output_type": "stream",
     "text": [
      "Epoch: 40, Loss: 2.0607, Test Accuracy: 0.1068, LR: 0.000010\n"
     ]
    },
    {
     "name": "stderr",
     "output_type": "stream",
     "text": [
      "Training: 100%|██████████| 375/375 [01:58<00:00,  3.18it/s]\n",
      "Testing: 100%|██████████| 94/94 [00:25<00:00,  3.68it/s]\n"
     ]
    },
    {
     "name": "stdout",
     "output_type": "stream",
     "text": [
      "Epoch: 41, Loss: 2.0628, Test Accuracy: 0.1048, LR: 0.000010\n"
     ]
    },
    {
     "name": "stderr",
     "output_type": "stream",
     "text": [
      "Training: 100%|██████████| 375/375 [01:40<00:00,  3.73it/s]\n",
      "Testing: 100%|██████████| 94/94 [00:26<00:00,  3.53it/s]\n"
     ]
    },
    {
     "name": "stdout",
     "output_type": "stream",
     "text": [
      "Epoch: 42, Loss: 2.0592, Test Accuracy: 0.1032, LR: 0.000010\n"
     ]
    },
    {
     "name": "stderr",
     "output_type": "stream",
     "text": [
      "Training: 100%|██████████| 375/375 [01:44<00:00,  3.59it/s]\n",
      "Testing: 100%|██████████| 94/94 [00:23<00:00,  3.94it/s]\n"
     ]
    },
    {
     "name": "stdout",
     "output_type": "stream",
     "text": [
      "Epoch: 43, Loss: 2.0613, Test Accuracy: 0.1068, LR: 0.000010\n"
     ]
    },
    {
     "name": "stderr",
     "output_type": "stream",
     "text": [
      "Training: 100%|██████████| 375/375 [01:38<00:00,  3.81it/s]\n",
      "Testing: 100%|██████████| 94/94 [00:13<00:00,  6.80it/s]\n"
     ]
    },
    {
     "name": "stdout",
     "output_type": "stream",
     "text": [
      "Epoch: 44, Loss: 2.0592, Test Accuracy: 0.1069, LR: 0.000010\n"
     ]
    },
    {
     "name": "stderr",
     "output_type": "stream",
     "text": [
      "Training: 100%|██████████| 375/375 [00:57<00:00,  6.51it/s]\n",
      "Testing: 100%|██████████| 94/94 [00:13<00:00,  7.16it/s]\n"
     ]
    },
    {
     "name": "stdout",
     "output_type": "stream",
     "text": [
      "Epoch: 45, Loss: 2.0620, Test Accuracy: 0.1075, LR: 0.000010\n"
     ]
    },
    {
     "name": "stderr",
     "output_type": "stream",
     "text": [
      "Training: 100%|██████████| 375/375 [00:59<00:00,  6.27it/s]\n",
      "Testing: 100%|██████████| 94/94 [00:12<00:00,  7.79it/s]\n"
     ]
    },
    {
     "name": "stdout",
     "output_type": "stream",
     "text": [
      "Epoch: 46, Loss: 2.0559, Test Accuracy: 0.1035, LR: 0.000010\n"
     ]
    },
    {
     "name": "stderr",
     "output_type": "stream",
     "text": [
      "Training: 100%|██████████| 375/375 [00:58<00:00,  6.44it/s]\n",
      "Testing: 100%|██████████| 94/94 [00:13<00:00,  6.97it/s]\n"
     ]
    },
    {
     "name": "stdout",
     "output_type": "stream",
     "text": [
      "Epoch: 47, Loss: 2.0557, Test Accuracy: 0.1071, LR: 0.000010\n"
     ]
    },
    {
     "name": "stderr",
     "output_type": "stream",
     "text": [
      "Training: 100%|██████████| 375/375 [00:59<00:00,  6.32it/s]\n",
      "Testing: 100%|██████████| 94/94 [01:40<00:00,  1.07s/it]\n"
     ]
    },
    {
     "name": "stdout",
     "output_type": "stream",
     "text": [
      "Epoch: 48, Loss: 2.0590, Test Accuracy: 0.1018, LR: 0.000010\n"
     ]
    },
    {
     "name": "stderr",
     "output_type": "stream",
     "text": [
      "Training: 100%|██████████| 375/375 [02:27<00:00,  2.54it/s]\n",
      "Testing: 100%|██████████| 94/94 [00:34<00:00,  2.73it/s]\n"
     ]
    },
    {
     "name": "stdout",
     "output_type": "stream",
     "text": [
      "Epoch: 49, Loss: 2.0571, Test Accuracy: 0.1034, LR: 0.000010\n"
     ]
    },
    {
     "name": "stderr",
     "output_type": "stream",
     "text": [
      "Training: 100%|██████████| 375/375 [02:09<00:00,  2.90it/s]\n",
      "Testing: 100%|██████████| 94/94 [00:29<00:00,  3.20it/s]\n"
     ]
    },
    {
     "name": "stdout",
     "output_type": "stream",
     "text": [
      "Epoch: 50, Loss: 2.0610, Test Accuracy: 0.1028, LR: 0.000010\n",
      "Saving advanced model state...\n",
      "Model saved to advanced_gnn_model.pth\n"
     ]
    },
    {
     "data": {
      "image/png": "[encoded data removed]",
      "text/plain": [
       "<Figure size 1500x500 with 2 Axes>"
      ]
     },
     "metadata": {},
     "output_type": "display_data"
    }
   ],
   "source": [
    "\n",
    "# --- 4. Main Execution Block ---\n",
    "if __name__ == '__main__':\n",
    "    # --- Hyperparameters ---\n",
    "    EPOCHS = 50\n",
    "    LEARNING_RATE = 0.001\n",
    "    BATCH_SIZE = 128\n",
    "    NUM_WORKERS = 0\n",
    "\n",
    "    # Setup device\n",
    "    device = torch.device('cuda' if torch.cuda.is_available() else 'cpu')\n",
    "    print(f\"Using device: {device}\")\n",
    "\n",
    "    # Load and split dataset\n",
    "    dataset = MNISTGraphDataset(root=r'A:\\mnist_gnn\\mnist_first_try\\mnist_graphs')\n",
    "    train_indices, test_indices = train_test_split(list(range(len(dataset))), test_size=0.2, random_state=42)\n",
    "    train_dataset = dataset[train_indices]\n",
    "    test_dataset = dataset[test_indices]\n",
    "    print(\"Loading completed.\")\n",
    "    # Create optimized DataLoaders\n",
    "    train_loader = DataLoader(train_dataset, batch_size=BATCH_SIZE, shuffle=True, num_workers=NUM_WORKERS, pin_memory=True)\n",
    "    test_loader = DataLoader(test_dataset, batch_size=BATCH_SIZE, shuffle=False, num_workers=NUM_WORKERS, pin_memory=True)\n",
    "    print(\"DataLoaders created.\")\n",
    "    # Initialize model\n",
    "    # We know there are 3 node features and 10 digit classes(from first try) to save time\n",
    "    model = AdvancedGNN(num_node_features=3, num_classes=10).to(device)\n",
    "    optimizer = torch.optim.Adam(model.parameters(), lr=LEARNING_RATE)\n",
    "    scheduler = StepLR(optimizer, step_size=20, gamma=0.1) # Reduce LR by 90% every 20 epochs\n",
    "    print(\"Model initialized.\")\n",
    "    # Training loop\n",
    "    history = {'loss': [], 'accuracy': []}\n",
    "    for epoch in range(1, EPOCHS + 1):\n",
    "        loss = train(model, train_loader, optimizer, device)\n",
    "        test_acc = test(model, test_loader, device)\n",
    "        scheduler.step()\n",
    "        \n",
    "        history['loss'].append(loss)\n",
    "        history['accuracy'].append(test_acc)\n",
    "        print(f'Epoch: {epoch:02d}, Loss: {loss:.4f}, Test Accuracy: {test_acc:.4f}, LR: {scheduler.get_last_lr()[0]:.6f}')\n",
    "\n",
    "    # Save the new model\n",
    "    print(\"Saving advanced model state...\")\n",
    "    torch.save(model.state_dict(), 'advanced_gnn_model.pth')\n",
    "    print(\"Model saved to advanced_gnn_model.pth\")\n",
    "\n",
    "    # Plotting results\n",
    "    fig, (ax1, ax2) = plt.subplots(1, 2, figsize=(15, 5))\n",
    "    ax1.plot(history['loss'], label='Training Loss')\n",
    "    ax1.set_title('Training Loss vs. Epochs')\n",
    "    ax1.grid(True)\n",
    "    ax2.plot(history['accuracy'], label='Test Accuracy', color='orange')\n",
    "    ax2.set_title('Test Accuracy vs. Epochs')\n",
    "    ax2.grid(True)\n",
    "    plt.show()"
   ]
  }
 ],
 "metadata": {
  "kernelspec": {
   "display_name": "Python 3",
   "language": "python",
   "name": "python3"
  },
  "language_info": {
   "codemirror_mode": {
    "name": "ipython",
    "version": 3
   },
   "file_extension": ".py",
   "mimetype": "text/x-python",
   "name": "python",
   "nbconvert_exporter": "python",
   "pygments_lexer": "ipython3",
   "version": "3.13.1"
  }
 },
 "nbformat": 4,
 "nbformat_minor": 2
}
